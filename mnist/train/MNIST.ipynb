{
 "cells": [
  {
   "cell_type": "markdown",
   "metadata": {},
   "source": [
    "# Компьютерное зрение\n",
    "\n",
    "В качестве базовой задачи CV (Computer Vision) возьмем задачу классификации рукописный цифр из набора данных [MNIST](https://www.kaggle.com/c/digit-recognizer)\n",
    "\n",
    "Примеры изображений из этого набора данных представлены на рисунке."
   ]
  },
  {
   "cell_type": "code",
   "execution_count": 1,
   "metadata": {},
   "outputs": [
    {
     "data": {
      "text/html": [
       "<img src=\"https://storage.googleapis.com/tfds-data/visualization/fig/mnist-3.0.1.png\" width=\"500\"/>"
      ],
      "text/plain": [
       "<IPython.core.display.Image object>"
      ]
     },
     "execution_count": 1,
     "metadata": {},
     "output_type": "execute_result"
    }
   ],
   "source": [
    "from IPython.display import Image\n",
    "Image(url='https://storage.googleapis.com/tfds-data/visualization/fig/mnist-3.0.1.png', width=500, )"
   ]
  },
  {
   "cell_type": "markdown",
   "metadata": {},
   "source": [
    "Каждое изображение имеет разрешение 28x28 пикселов. Каждый пиксел закодирован одним байтом, который определяет оттенок серого (0 - черный, 255 - белый)"
   ]
  },
  {
   "cell_type": "markdown",
   "metadata": {},
   "source": [
    "## Загрузка данных\n",
    "\n",
    "Набора данных MNIST настолько популярен, что в библиотеке tensorflow уже есть готовая функция, которая скачает его из сети и загрузит в виде подготовленных массивов, разделенных на обучающую и проверочную выборки"
   ]
  },
  {
   "cell_type": "code",
   "execution_count": 2,
   "metadata": {},
   "outputs": [
    {
     "name": "stderr",
     "output_type": "stream",
     "text": [
      "2023-07-24 11:42:22.781792: I tensorflow/core/util/port.cc:110] oneDNN custom operations are on. You may see slightly different numerical results due to floating-point round-off errors from different computation orders. To turn them off, set the environment variable `TF_ENABLE_ONEDNN_OPTS=0`.\n",
      "2023-07-24 11:42:22.783862: I tensorflow/tsl/cuda/cudart_stub.cc:28] Could not find cuda drivers on your machine, GPU will not be used.\n",
      "2023-07-24 11:42:22.825761: I tensorflow/tsl/cuda/cudart_stub.cc:28] Could not find cuda drivers on your machine, GPU will not be used.\n",
      "2023-07-24 11:42:22.826506: I tensorflow/core/platform/cpu_feature_guard.cc:182] This TensorFlow binary is optimized to use available CPU instructions in performance-critical operations.\n",
      "To enable the following instructions: AVX2 AVX512F AVX512_VNNI FMA, in other operations, rebuild TensorFlow with the appropriate compiler flags.\n",
      "2023-07-24 11:42:23.661967: W tensorflow/compiler/tf2tensorrt/utils/py_utils.cc:38] TF-TRT Warning: Could not find TensorRT\n"
     ]
    }
   ],
   "source": [
    "import numpy as np\n",
    "from tensorflow import keras\n",
    "(X_train, y_train), (X_test, y_test) = keras.datasets.mnist.load_data()"
   ]
  },
  {
   "cell_type": "markdown",
   "metadata": {},
   "source": [
    "## Нейронные сети\n",
    "\n",
    "Алгоритмы компьютерного зрения, основанные на нейронных сетях хорошо себя зарекомендовали на практике. Для решения данный задачи мы используем 2 типа нейронных сетей: полносвзный перцептрон и сверточная нейронная сеть."
   ]
  },
  {
   "cell_type": "markdown",
   "metadata": {},
   "source": [
    "## Однослойный перцептрон\n",
    "\n",
    "Данная архитекутра представляет собой известный алгоритм логистической регресси, но записаный в виде нейронной сети."
   ]
  },
  {
   "cell_type": "code",
   "execution_count": 3,
   "metadata": {},
   "outputs": [
    {
     "data": {
      "text/html": [
       "<img src=\"https://www.jeremyjordan.me/content/images/2018/01/Screen-Shot-2017-11-07-at-10.35.52-AM.png\"/>"
      ],
      "text/plain": [
       "<IPython.core.display.Image object>"
      ]
     },
     "execution_count": 3,
     "metadata": {},
     "output_type": "execute_result"
    }
   ],
   "source": [
    "Image(url='https://www.jeremyjordan.me/content/images/2018/01/Screen-Shot-2017-11-07-at-10.35.52-AM.png')"
   ]
  },
  {
   "cell_type": "markdown",
   "metadata": {},
   "source": [
    "## Полносвязный многослойный перцептрон\n",
    "Multilayer Perceptron (MLP) - архитектура НС, при которой каждый нейрон одного слоя связан со всеми нейроннами последующего слоя.\n",
    "\n",
    "Пример такой архитектуры для 2-х слоев представлен на рисунке."
   ]
  },
  {
   "cell_type": "code",
   "execution_count": 4,
   "metadata": {},
   "outputs": [
    {
     "data": {
      "text/html": [
       "<img src=\"https://miro.medium.com/max/1400/1*-IPQlOd46dlsutIbUq1Zcw.png\"/>"
      ],
      "text/plain": [
       "<IPython.core.display.Image object>"
      ]
     },
     "execution_count": 4,
     "metadata": {},
     "output_type": "execute_result"
    }
   ],
   "source": [
    "Image(url='https://miro.medium.com/max/1400/1*-IPQlOd46dlsutIbUq1Zcw.png')"
   ]
  },
  {
   "cell_type": "markdown",
   "metadata": {},
   "source": [
    "### Матричное представление "
   ]
  },
  {
   "cell_type": "code",
   "execution_count": 5,
   "metadata": {},
   "outputs": [
    {
     "data": {
      "text/html": [
       "<img src=\"https://www.jeremyjordan.me/content/images/2018/01/Screen-Shot-2017-11-07-at-12.32.19-PM.png\"/>"
      ],
      "text/plain": [
       "<IPython.core.display.Image object>"
      ]
     },
     "execution_count": 5,
     "metadata": {},
     "output_type": "execute_result"
    }
   ],
   "source": [
    "Image(url='https://www.jeremyjordan.me/content/images/2018/01/Screen-Shot-2017-11-07-at-12.32.19-PM.png')"
   ]
  },
  {
   "cell_type": "markdown",
   "metadata": {},
   "source": [
    "Первая сеть, которую мы будем обучать состоит из 2-х слоев. В первом слое 128 ячеек, во втором слое 10 - по числу выходных классов.\n",
    "\n",
    "В качестве функции активации для первого слоя будем использовать сигмоиду $\\sigma(z)$, а для второго слоя специальную функцию $softmax(z)$, которая нормирует выходы нейросети, чтобы их можно было трактовать как распределение вероятностей.\n",
    "\n",
    "Для принятия решения об конкретном классе выбирают номер выходной ячейки, вероятность которой является наибольшей из всех.\n",
    "\n",
    "Таким образом наша архитектура представляет собой последовательность следующих операций\n",
    "$$\n",
    "z_1 = W_1 x \\\\\n",
    "o_1 = \\sigma(z) \\\\\n",
    "z_2 = W_2 o_1 \\\\\n",
    "o_2 = softmax(z2) \\\\\n",
    "$$\n"
   ]
  },
  {
   "cell_type": "markdown",
   "metadata": {},
   "source": [
    "### Предобработка данных\n",
    "\n",
    "Для данной сети мы развернем двумерные изображения в одномерный вектор и отнормируем значений признаков от 0 до 1."
   ]
  },
  {
   "cell_type": "code",
   "execution_count": 6,
   "metadata": {},
   "outputs": [],
   "source": [
    "x_train = X_train.reshape(-1, 28*28)\n",
    "x_test = X_test.reshape(-1, 28*28)\n",
    "x_train = x_train.astype('float32')\n",
    "x_test = x_test.astype('float32')\n",
    "x_train /= 255\n",
    "x_test /= 255"
   ]
  },
  {
   "cell_type": "markdown",
   "metadata": {},
   "source": [
    "### Обучение сети\n",
    "\n",
    "Для обучения будем использовать API keras из библиотеки tensorflow. Данное API позволяет сконструировать произвольную архитектуру сети и запустить для нее обучающий алгоритм, который называется обратное распространение ошибки и представляет собой обобщение метода градиентного спуска."
   ]
  },
  {
   "cell_type": "code",
   "execution_count": 7,
   "metadata": {
    "scrolled": false
   },
   "outputs": [
    {
     "name": "stdout",
     "output_type": "stream",
     "text": [
      "Model: \"sequential\"\n",
      "_________________________________________________________________\n",
      " Layer (type)                Output Shape              Param #   \n",
      "=================================================================\n",
      " dense (Dense)               (None, 128)               100352    \n",
      "                                                                 \n",
      " dense_1 (Dense)             (None, 10)                1280      \n",
      "                                                                 \n",
      "=================================================================\n",
      "Total params: 101632 (397.00 KB)\n",
      "Trainable params: 101632 (397.00 KB)\n",
      "Non-trainable params: 0 (0.00 Byte)\n",
      "_________________________________________________________________\n"
     ]
    }
   ],
   "source": [
    "from keras import Sequential\n",
    "from keras.datasets import mnist\n",
    "from keras.models import Sequential\n",
    "from keras.layers import Dense, Dropout, Input\n",
    "\n",
    "batch_size = 128\n",
    "num_classes = 10\n",
    "epochs = 20\n",
    "\n",
    "\n",
    "model = Sequential()\n",
    "model.add(Dense(128, use_bias=False, activation='sigmoid', input_shape=(x_train.shape[1],)))\n",
    "model.add(Dense(num_classes, use_bias=False, activation='softmax'))\n",
    "\n",
    "model.summary()"
   ]
  },
  {
   "cell_type": "code",
   "execution_count": 8,
   "metadata": {},
   "outputs": [
    {
     "name": "stdout",
     "output_type": "stream",
     "text": [
      "Epoch 1/20\n",
      "469/469 [==============================] - 1s 2ms/step - loss: 0.5515 - accuracy: 0.8689 - val_loss: 0.2936 - val_accuracy: 0.9196\n",
      "Epoch 2/20\n",
      "469/469 [==============================] - 1s 2ms/step - loss: 0.2683 - accuracy: 0.9231 - val_loss: 0.2315 - val_accuracy: 0.9351\n",
      "Epoch 3/20\n",
      "469/469 [==============================] - 1s 2ms/step - loss: 0.2156 - accuracy: 0.9385 - val_loss: 0.1955 - val_accuracy: 0.9423\n",
      "Epoch 4/20\n",
      "469/469 [==============================] - 1s 2ms/step - loss: 0.1818 - accuracy: 0.9478 - val_loss: 0.1672 - val_accuracy: 0.9510\n",
      "Epoch 5/20\n",
      "469/469 [==============================] - 1s 2ms/step - loss: 0.1566 - accuracy: 0.9551 - val_loss: 0.1501 - val_accuracy: 0.9565\n",
      "Epoch 6/20\n",
      "469/469 [==============================] - 1s 2ms/step - loss: 0.1368 - accuracy: 0.9602 - val_loss: 0.1357 - val_accuracy: 0.9589\n",
      "Epoch 7/20\n",
      "469/469 [==============================] - 1s 2ms/step - loss: 0.1213 - accuracy: 0.9653 - val_loss: 0.1232 - val_accuracy: 0.9637\n",
      "Epoch 8/20\n",
      "469/469 [==============================] - 1s 2ms/step - loss: 0.1084 - accuracy: 0.9692 - val_loss: 0.1144 - val_accuracy: 0.9650\n",
      "Epoch 9/20\n",
      "469/469 [==============================] - 1s 2ms/step - loss: 0.0977 - accuracy: 0.9727 - val_loss: 0.1046 - val_accuracy: 0.9678\n",
      "Epoch 10/20\n",
      "469/469 [==============================] - 1s 2ms/step - loss: 0.0881 - accuracy: 0.9754 - val_loss: 0.1033 - val_accuracy: 0.9694\n",
      "Epoch 11/20\n",
      "469/469 [==============================] - 1s 2ms/step - loss: 0.0807 - accuracy: 0.9777 - val_loss: 0.0948 - val_accuracy: 0.9715\n",
      "Epoch 12/20\n",
      "469/469 [==============================] - 1s 2ms/step - loss: 0.0739 - accuracy: 0.9794 - val_loss: 0.0902 - val_accuracy: 0.9725\n",
      "Epoch 13/20\n",
      "469/469 [==============================] - 1s 2ms/step - loss: 0.0681 - accuracy: 0.9813 - val_loss: 0.0883 - val_accuracy: 0.9736\n",
      "Epoch 14/20\n",
      "469/469 [==============================] - 1s 2ms/step - loss: 0.0628 - accuracy: 0.9827 - val_loss: 0.0863 - val_accuracy: 0.9733\n",
      "Epoch 15/20\n",
      "469/469 [==============================] - 1s 2ms/step - loss: 0.0580 - accuracy: 0.9841 - val_loss: 0.0828 - val_accuracy: 0.9746\n",
      "Epoch 16/20\n",
      "469/469 [==============================] - 1s 2ms/step - loss: 0.0539 - accuracy: 0.9850 - val_loss: 0.0809 - val_accuracy: 0.9752\n",
      "Epoch 17/20\n",
      "469/469 [==============================] - 1s 2ms/step - loss: 0.0502 - accuracy: 0.9865 - val_loss: 0.0811 - val_accuracy: 0.9758\n",
      "Epoch 18/20\n",
      "469/469 [==============================] - 1s 2ms/step - loss: 0.0466 - accuracy: 0.9874 - val_loss: 0.0786 - val_accuracy: 0.9761\n",
      "Epoch 19/20\n",
      "469/469 [==============================] - 1s 2ms/step - loss: 0.0435 - accuracy: 0.9884 - val_loss: 0.0743 - val_accuracy: 0.9768\n",
      "Epoch 20/20\n",
      "469/469 [==============================] - 1s 2ms/step - loss: 0.0407 - accuracy: 0.9890 - val_loss: 0.0744 - val_accuracy: 0.9766\n"
     ]
    }
   ],
   "source": [
    "model.compile(loss='sparse_categorical_crossentropy',\n",
    "              optimizer='rmsprop',\n",
    "              metrics=['accuracy'])\n",
    "\n",
    "history = model.fit(x_train, y_train,\n",
    "                    batch_size=batch_size,\n",
    "                    epochs=epochs,\n",
    "                    verbose=1,\n",
    "                    validation_data=(x_test, y_test))"
   ]
  },
  {
   "cell_type": "code",
   "execution_count": 12,
   "metadata": {},
   "outputs": [
    {
     "data": {
      "image/png": "[encoded data removed]",
      "text/plain": [
       "<Figure size 1000x600 with 1 Axes>"
      ]
     },
     "metadata": {},
     "output_type": "display_data"
    }
   ],
   "source": [
    "from matplotlib import pyplot as plt \n",
    "import seaborn as sns\n",
    "sns.set()\n",
    "plt.figure(figsize=(10, 6))\n",
    "plt.plot(history.history['val_accuracy'])\n",
    "plt.xlabel('epoch')\n",
    "plt.ylabel('Accuracy')\n",
    "plt.ylim(0.91, 1.01);"
   ]
  },
  {
   "cell_type": "markdown",
   "metadata": {},
   "source": [
    "## Сохранение весом нейронной сети\n",
    "\n",
    "Веса каждого из слоев представляют собой матрицы. Извлечем коэффициенты этих матриц и сохраним в текстовые файлы."
   ]
  },
  {
   "cell_type": "code",
   "execution_count": 13,
   "metadata": {},
   "outputs": [
    {
     "name": "stdout",
     "output_type": "stream",
     "text": [
      "w1.shape: (784, 128), w2.shape: (128, 10)\n"
     ]
    }
   ],
   "source": [
    "w1 = model.layers[0].get_weights()[0]\n",
    "w2 = model.layers[1].get_weights()[0]\n",
    "print(f\"w1.shape: {w1.shape}, w2.shape: {w2.shape}\")"
   ]
  },
  {
   "cell_type": "code",
   "execution_count": 14,
   "metadata": {},
   "outputs": [],
   "source": [
    "np.savetxt(\"w1.txt\", w1)\n",
    "np.savetxt(\"w2.txt\", w2)"
   ]
  },
  {
   "cell_type": "markdown",
   "metadata": {},
   "source": [
    "## Генерация тестовых данных\n",
    "Для проверки корректности переноса инференса в код на C++. Сохраним предсказания вероятностей и классов в файлах вместе с признаками для сотни изображений."
   ]
  },
  {
   "cell_type": "code",
   "execution_count": 15,
   "metadata": {},
   "outputs": [
    {
     "name": "stdout",
     "output_type": "stream",
     "text": [
      "4/4 [==============================] - 0s 1ms/step\n"
     ]
    }
   ],
   "source": [
    "X_test_subset = X_test[:100].reshape(-1, 28*28)\n",
    "y_pred = model.predict(X_test_subset.astype('float32') / 255)\n",
    "np.savetxt(\"test_mnist_mlp.txt\", np.hstack((y_pred, X_test_subset)), fmt=\"%g\")\n",
    "y_pred_class = np.argmax(y_pred, axis=1)\n",
    "np.savetxt(\"test_mnist_mlp_classes.txt\", np.hstack((y_pred_class.reshape(-1, 1), X_test_subset)), fmt=\"%g\")"
   ]
  },
  {
   "cell_type": "markdown",
   "metadata": {},
   "source": [
    "## Сверточная нейронная сеть\n",
    "\n",
    "Данный тип архитектуры хорошо подходит для обработки изображений."
   ]
  },
  {
   "cell_type": "markdown",
   "metadata": {},
   "source": [
    "### Предобработка признаков\n",
    "\n",
    "Серточные сети обычно работают с двумерными изображениями. Поэтому для этого типа сетей мы выполним только нормировку признаков."
   ]
  },
  {
   "cell_type": "code",
   "execution_count": 16,
   "metadata": {},
   "outputs": [
    {
     "data": {
      "text/plain": [
       "(60000, 784)"
      ]
     },
     "execution_count": 16,
     "metadata": {},
     "output_type": "execute_result"
    }
   ],
   "source": [
    "x_train.shape"
   ]
  },
  {
   "cell_type": "code",
   "execution_count": 17,
   "metadata": {},
   "outputs": [],
   "source": [
    "x_train = X_train.astype('float32').reshape(-1, 28, 28, 1) / 255\n",
    "x_test = X_test.astype('float32').reshape(-1, 28, 28, 1) / 255"
   ]
  },
  {
   "cell_type": "code",
   "execution_count": 18,
   "metadata": {},
   "outputs": [
    {
     "name": "stdout",
     "output_type": "stream",
     "text": [
      "Model: \"sequential_1\"\n",
      "_________________________________________________________________\n",
      " Layer (type)                Output Shape              Param #   \n",
      "=================================================================\n",
      " conv2d (Conv2D)             (None, 26, 26, 32)        320       \n",
      "                                                                 \n",
      " max_pooling2d (MaxPooling2  (None, 13, 13, 32)        0         \n",
      " D)                                                              \n",
      "                                                                 \n",
      " conv2d_1 (Conv2D)           (None, 11, 11, 64)        18496     \n",
      "                                                                 \n",
      " max_pooling2d_1 (MaxPoolin  (None, 5, 5, 64)          0         \n",
      " g2D)                                                            \n",
      "                                                                 \n",
      " flatten (Flatten)           (None, 1600)              0         \n",
      "                                                                 \n",
      " dense_2 (Dense)             (None, 128)               204928    \n",
      "                                                                 \n",
      " output (Dense)              (None, 10)                1290      \n",
      "                                                                 \n",
      "=================================================================\n",
      "Total params: 225034 (879.04 KB)\n",
      "Trainable params: 225034 (879.04 KB)\n",
      "Non-trainable params: 0 (0.00 Byte)\n",
      "_________________________________________________________________\n"
     ]
    }
   ],
   "source": [
    "from keras.layers import Conv2D, MaxPooling2D, Flatten, Dropout, Input\n",
    "\n",
    "cnn_model = Sequential()\n",
    "cnn_model.add(Input(shape=x_train.shape[1:], name=\"input\"))\n",
    "cnn_model.add(Conv2D(32, kernel_size=(3, 3),\n",
    "                 activation='relu'))\n",
    "cnn_model.add(MaxPooling2D(pool_size=(2, 2)))\n",
    "cnn_model.add(Conv2D(64, (3, 3), activation='relu'))\n",
    "cnn_model.add(MaxPooling2D(pool_size=(2, 2)))\n",
    "# cnn_model.add(Dropout(0.25))\n",
    "cnn_model.add(Flatten())\n",
    "cnn_model.add(Dense(128, activation='relu'))\n",
    "# cnn_model.add(Dropout(0.5))\n",
    "cnn_model.add(Dense(num_classes, activation='softmax', name=\"output\"))\n",
    "\n",
    "cnn_model.summary()"
   ]
  },
  {
   "cell_type": "code",
   "execution_count": 19,
   "metadata": {},
   "outputs": [
    {
     "name": "stdout",
     "output_type": "stream",
     "text": [
      "Epoch 1/20\n",
      "469/469 [==============================] - 4s 8ms/step - loss: 0.2118 - accuracy: 0.9342 - val_loss: 0.0724 - val_accuracy: 0.9754\n",
      "Epoch 2/20\n",
      "469/469 [==============================] - 4s 8ms/step - loss: 0.0564 - accuracy: 0.9832 - val_loss: 0.0439 - val_accuracy: 0.9862\n",
      "Epoch 3/20\n",
      "469/469 [==============================] - 4s 8ms/step - loss: 0.0366 - accuracy: 0.9886 - val_loss: 0.0300 - val_accuracy: 0.9890\n",
      "Epoch 4/20\n",
      "469/469 [==============================] - 4s 8ms/step - loss: 0.0271 - accuracy: 0.9916 - val_loss: 0.0292 - val_accuracy: 0.9909\n",
      "Epoch 5/20\n",
      "469/469 [==============================] - 4s 8ms/step - loss: 0.0202 - accuracy: 0.9939 - val_loss: 0.0355 - val_accuracy: 0.9896\n",
      "Epoch 6/20\n",
      "469/469 [==============================] - 4s 9ms/step - loss: 0.0159 - accuracy: 0.9953 - val_loss: 0.0351 - val_accuracy: 0.9874\n",
      "Epoch 7/20\n",
      "469/469 [==============================] - 4s 9ms/step - loss: 0.0128 - accuracy: 0.9958 - val_loss: 0.0354 - val_accuracy: 0.9900\n",
      "Epoch 8/20\n",
      "469/469 [==============================] - 4s 8ms/step - loss: 0.0094 - accuracy: 0.9971 - val_loss: 0.0271 - val_accuracy: 0.9913\n",
      "Epoch 9/20\n",
      "469/469 [==============================] - 4s 8ms/step - loss: 0.0082 - accuracy: 0.9975 - val_loss: 0.0298 - val_accuracy: 0.9910\n",
      "Epoch 10/20\n",
      "469/469 [==============================] - 4s 8ms/step - loss: 0.0070 - accuracy: 0.9978 - val_loss: 0.0341 - val_accuracy: 0.9914\n",
      "Epoch 11/20\n",
      "469/469 [==============================] - 4s 8ms/step - loss: 0.0047 - accuracy: 0.9985 - val_loss: 0.0432 - val_accuracy: 0.9890\n",
      "Epoch 12/20\n",
      "469/469 [==============================] - 4s 8ms/step - loss: 0.0039 - accuracy: 0.9988 - val_loss: 0.0439 - val_accuracy: 0.9900\n",
      "Epoch 13/20\n",
      "469/469 [==============================] - 4s 8ms/step - loss: 0.0025 - accuracy: 0.9992 - val_loss: 0.0318 - val_accuracy: 0.9930\n",
      "Epoch 14/20\n",
      "469/469 [==============================] - 4s 8ms/step - loss: 0.0026 - accuracy: 0.9992 - val_loss: 0.0358 - val_accuracy: 0.9924\n",
      "Epoch 15/20\n",
      "469/469 [==============================] - 4s 8ms/step - loss: 0.0019 - accuracy: 0.9995 - val_loss: 0.0352 - val_accuracy: 0.9921\n",
      "Epoch 16/20\n",
      "469/469 [==============================] - 4s 8ms/step - loss: 0.0012 - accuracy: 0.9997 - val_loss: 0.0441 - val_accuracy: 0.9911\n",
      "Epoch 17/20\n",
      "469/469 [==============================] - 4s 8ms/step - loss: 0.0010 - accuracy: 0.9997 - val_loss: 0.0443 - val_accuracy: 0.9917\n",
      "Epoch 18/20\n",
      "469/469 [==============================] - 4s 8ms/step - loss: 5.5637e-04 - accuracy: 0.9998 - val_loss: 0.0457 - val_accuracy: 0.9914\n",
      "Epoch 19/20\n",
      "469/469 [==============================] - 4s 8ms/step - loss: 7.2057e-04 - accuracy: 0.9997 - val_loss: 0.0400 - val_accuracy: 0.9925\n",
      "Epoch 20/20\n",
      "469/469 [==============================] - 4s 8ms/step - loss: 7.4762e-04 - accuracy: 0.9997 - val_loss: 0.0432 - val_accuracy: 0.9922\n"
     ]
    }
   ],
   "source": [
    "cnn_model.compile(loss='sparse_categorical_crossentropy',\n",
    "              optimizer='rmsprop',\n",
    "              metrics=['accuracy'])\n",
    "\n",
    "cnn_history = cnn_model.fit(x_train, y_train,\n",
    "                        batch_size=batch_size,\n",
    "                        epochs=epochs,\n",
    "                        verbose=1,\n",
    "                        validation_data=(x_test, y_test))"
   ]
  },
  {
   "cell_type": "code",
   "execution_count": 20,
   "metadata": {},
   "outputs": [
    {
     "data": {
      "image/png": "[encoded data removed]",
      "text/plain": [
       "<Figure size 1000x600 with 1 Axes>"
      ]
     },
     "metadata": {},
     "output_type": "display_data"
    }
   ],
   "source": [
    "plt.figure(figsize=(10, 6))\n",
    "plt.plot(cnn_history.history['val_accuracy'])\n",
    "plt.xlabel('epoch')\n",
    "plt.ylabel('Accuracy')\n",
    "plt.ylim(0.91, 1.01);"
   ]
  },
  {
   "cell_type": "markdown",
   "metadata": {},
   "source": [
    "### Сохранение модели\n",
    "Для хранения модели Tensorflow использует собственный формат SavedModel. Создается директория, в которой располагаются различные файлы и поддиректории, прдставляющие собой модели и различные параметры."
   ]
  },
  {
   "cell_type": "code",
   "execution_count": 21,
   "metadata": {},
   "outputs": [
    {
     "name": "stdout",
     "output_type": "stream",
     "text": [
      "INFO:tensorflow:Assets written to: saved_model/assets\n"
     ]
    },
    {
     "name": "stderr",
     "output_type": "stream",
     "text": [
      "INFO:tensorflow:Assets written to: saved_model/assets\n"
     ]
    }
   ],
   "source": [
    "cnn_model.save(\"saved_model\")"
   ]
  },
  {
   "cell_type": "markdown",
   "metadata": {},
   "source": [
    "### Генерация данных для тестирования"
   ]
  },
  {
   "cell_type": "code",
   "execution_count": 22,
   "metadata": {},
   "outputs": [
    {
     "name": "stdout",
     "output_type": "stream",
     "text": [
      "4/4 [==============================] - 0s 2ms/step\n"
     ]
    }
   ],
   "source": [
    "x_test_subset = x_test[:100]\n",
    "y_pred = cnn_model.predict(x_test_subset.reshape(-1, 28, 28, 1).astype('float32') / 255)\n",
    "np.savetxt(\"test_mnist_cnn.txt\", np.hstack((y_pred, x_test_subset.reshape(-1, 28*28))), fmt=\"%g\")\n",
    "y_pred_class = np.argmax(y_pred, axis=1)\n",
    "np.savetxt(\"test_mnist_cnn_classes.txt\", np.hstack((y_pred_class.reshape(-1, 1), x_test_subset.reshape(-1, 28*28))), fmt=\"%g\")"
   ]
  },
  {
   "cell_type": "markdown",
   "metadata": {},
   "source": [
    "## TensorFlow Lite"
   ]
  },
  {
   "cell_type": "code",
   "execution_count": 23,
   "metadata": {},
   "outputs": [
    {
     "name": "stdout",
     "output_type": "stream",
     "text": [
      "INFO:tensorflow:Assets written to: /tmp/tmp84r5t4ic/assets\n"
     ]
    },
    {
     "name": "stderr",
     "output_type": "stream",
     "text": [
      "INFO:tensorflow:Assets written to: /tmp/tmp84r5t4ic/assets\n",
      "2023-07-24 11:46:27.724811: W tensorflow/compiler/mlir/lite/python/tf_tfl_flatbuffer_helpers.cc:364] Ignored output_format.\n",
      "2023-07-24 11:46:27.724849: W tensorflow/compiler/mlir/lite/python/tf_tfl_flatbuffer_helpers.cc:367] Ignored drop_control_dependency.\n",
      "2023-07-24 11:46:27.725151: I tensorflow/cc/saved_model/reader.cc:45] Reading SavedModel from: /tmp/tmp84r5t4ic\n",
      "2023-07-24 11:46:27.726077: I tensorflow/cc/saved_model/reader.cc:91] Reading meta graph with tags { serve }\n",
      "2023-07-24 11:46:27.726092: I tensorflow/cc/saved_model/reader.cc:132] Reading SavedModel debug info (if present) from: /tmp/tmp84r5t4ic\n",
      "2023-07-24 11:46:27.728356: I tensorflow/compiler/mlir/mlir_graph_optimization_pass.cc:375] MLIR V1 optimization pass is not enabled\n",
      "2023-07-24 11:46:27.729106: I tensorflow/cc/saved_model/loader.cc:231] Restoring SavedModel bundle.\n",
      "2023-07-24 11:46:27.764300: I tensorflow/cc/saved_model/loader.cc:215] Running initialization op on SavedModel bundle at path: /tmp/tmp84r5t4ic\n",
      "2023-07-24 11:46:27.774017: I tensorflow/cc/saved_model/loader.cc:314] SavedModel load for tags { serve }; Status: success: OK. Took 48867 microseconds.\n",
      "2023-07-24 11:46:27.784728: I tensorflow/compiler/mlir/tensorflow/utils/dump_mlir_util.cc:255] disabling MLIR crash reproducer, set env var `MLIR_CRASH_REPRODUCER_DIRECTORY` to enable.\n"
     ]
    }
   ],
   "source": [
    "import tensorflow as tf\n",
    "\n",
    "converter = tf.lite.TFLiteConverter.from_keras_model(cnn_model)\n",
    "tflite_model = converter.convert()"
   ]
  },
  {
   "cell_type": "code",
   "execution_count": 24,
   "metadata": {},
   "outputs": [],
   "source": [
    "# Save the model.\n",
    "with open('model.tflite', 'wb') as f:\n",
    "  f.write(tflite_model)"
   ]
  },
  {
   "cell_type": "code",
   "execution_count": null,
   "metadata": {},
   "outputs": [],
   "source": []
  }
 ],
 "metadata": {
  "kernelspec": {
   "display_name": "Python 3.10.2 64-bit",
   "language": "python",
   "name": "python3"
  },
  "language_info": {
   "codemirror_mode": {
    "name": "ipython",
    "version": 3
   },
   "file_extension": ".py",
   "mimetype": "text/x-python",
   "name": "python",
   "nbconvert_exporter": "python",
   "pygments_lexer": "ipython3",
   "version": "3.10.10"
  },
  "vscode": {
   "interpreter": {
    "hash": "97cc609b13305c559618ec78a438abc56230b9381f827f22d070313b9a1f3777"
   }
  }
 },
 "nbformat": 4,
 "nbformat_minor": 2
}
